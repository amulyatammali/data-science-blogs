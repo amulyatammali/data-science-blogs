{
 "cells": [
  {
   "cell_type": "markdown",
   "id": "a0e2dc99",
   "metadata": {},
   "source": [
    "# NUMPY LIBRARY"
   ]
  },
  {
   "cell_type": "code",
   "execution_count": 1,
   "id": "bf5df21d",
   "metadata": {},
   "outputs": [],
   "source": [
    "import time\n",
    "import sys\n",
    "import numpy as np"
   ]
  },
  {
   "cell_type": "markdown",
   "id": "13c568a1",
   "metadata": {},
   "source": [
    "# Time::(list vs array)"
   ]
  },
  {
   "cell_type": "markdown",
   "id": "815a8b8c",
   "metadata": {},
   "source": [
    "# List"
   ]
  },
  {
   "cell_type": "code",
   "execution_count": 11,
   "id": "55922423",
   "metadata": {},
   "outputs": [
    {
     "name": "stdout",
     "output_type": "stream",
     "text": [
      "timeconsume:: 70.06406784057617\n"
     ]
    }
   ],
   "source": [
    "t=time.time()\n",
    "x=range(100000)\n",
    "y=range(100000)\n",
    "z=[[i+j] for i,j in zip(x,y)]\n",
    "print(\"timeconsume::\",(time.time()-t)*1000)"
   ]
  },
  {
   "cell_type": "markdown",
   "id": "39e8a6bd",
   "metadata": {},
   "source": [
    "# array"
   ]
  },
  {
   "cell_type": "code",
   "execution_count": 16,
   "id": "e8cd5f08",
   "metadata": {},
   "outputs": [
    {
     "name": "stdout",
     "output_type": "stream",
     "text": [
      "timeconsume:: 11.016845703125\n"
     ]
    }
   ],
   "source": [
    "import numpy as np\n",
    "t=time.time()\n",
    "x=np.arange(100000)\n",
    "y=np.arange(100000)\n",
    "z=x+y\n",
    "print(\"timeconsume::\",(time.time()-t)*1000)"
   ]
  },
  {
   "cell_type": "markdown",
   "id": "a1fdf881",
   "metadata": {},
   "source": [
    "# size(list vs array)"
   ]
  },
  {
   "cell_type": "code",
   "execution_count": 17,
   "id": "6557e9c8",
   "metadata": {},
   "outputs": [
    {
     "name": "stdout",
     "output_type": "stream",
     "text": [
      "list memory size::\n",
      "252\n",
      "array memory size::\n",
      "36\n"
     ]
    }
   ],
   "source": [
    "b=[9,0,56,45,34,78,93,23,78]\n",
    "print(\"list memory size::\")\n",
    "print(sys.getsizeof(9)*len(b))\n",
    "a=np.array([9,0,56,45,34,78,93,23,78])\n",
    "print(\"array memory size::\")\n",
    "print(a.size*a.itemsize)"
   ]
  },
  {
   "cell_type": "markdown",
   "id": "3966d172",
   "metadata": {},
   "source": [
    "# numpy array operations"
   ]
  },
  {
   "cell_type": "code",
   "execution_count": 18,
   "id": "d28df623",
   "metadata": {},
   "outputs": [
    {
     "name": "stdout",
     "output_type": "stream",
     "text": [
      "one dimentional array:\n",
      "[1 2 3 4 5 6 7 8 9]\n",
      "two dimentional array:\n",
      "[[1 2 3 4]\n",
      " [5 6 7 8]]\n",
      "three dimentional array:\n",
      "[[[1 2 3 4]\n",
      "  [5 6 7 8]]\n",
      "\n",
      " [[6 9 0 8]\n",
      "  [4 5 3 2]]]\n"
     ]
    }
   ],
   "source": [
    "print(\"one dimentional array:\")\n",
    "a=np.array([1,2,3,4,5,6,7,8,9])\n",
    "print(a)\n",
    "print(\"two dimentional array:\")\n",
    "b=np.array([[1,2,3,4],[5,6,7,8]])\n",
    "print(b)\n",
    "print(\"three dimentional array:\")\n",
    "c=np.array([[[1,2,3,4],[5,6,7,8]],[[6,9,0,8],[4,5,3,2]]])\n",
    "print(c)"
   ]
  },
  {
   "cell_type": "code",
   "execution_count": 23,
   "id": "5ba92ba2",
   "metadata": {},
   "outputs": [
    {
     "name": "stdout",
     "output_type": "stream",
     "text": [
      "array with zeros:\n",
      "[[0. 0.]\n",
      " [0. 0.]\n",
      " [0. 0.]]\n",
      "array with ones:\n",
      "[[1. 1.]\n",
      " [1. 1.]\n",
      " [1. 1.]]\n"
     ]
    }
   ],
   "source": [
    "print(\"array with zeros:\")\n",
    "print(np.zeros((3,2)))\n",
    "print(\"array with ones:\")\n",
    "print(np.ones((3,2)))"
   ]
  },
  {
   "cell_type": "code",
   "execution_count": 24,
   "id": "596f92fb",
   "metadata": {},
   "outputs": [
    {
     "name": "stdout",
     "output_type": "stream",
     "text": [
      "shape:(3, 4)\n",
      "array size 12\n",
      "array dimensions: 2\n",
      "size of each element in array: 4\n"
     ]
    }
   ],
   "source": [
    "a=np.array([[2,3,4,5],[2,4,5,6],[90,80,67,45]])\n",
    "print(\"shape:\"+str(a.shape))\n",
    "print(\"array size\",a.size)\n",
    "print(\"array dimensions:\",a.ndim)\n",
    "print(\"size of each element in array:\",a.itemsize)"
   ]
  },
  {
   "cell_type": "code",
   "execution_count": 27,
   "id": "32e82d19",
   "metadata": {},
   "outputs": [
    {
     "name": "stdout",
     "output_type": "stream",
     "text": [
      "Array before modification :\n",
      "[[ 2  3  4  5]\n",
      " [ 2  4  5  6]\n",
      " [90 80 67 45]]\n",
      "transpose matrix of matrix a:\n",
      "[[ 2  2 90]\n",
      " [ 3  4 80]\n",
      " [ 4  5 67]\n",
      " [ 5  6 45]]\n",
      "Array after modification :\n",
      "[[[ 2  3  4]\n",
      "  [ 5  2  4]]\n",
      "\n",
      " [[ 5  6 90]\n",
      "  [80 67 45]]]\n"
     ]
    }
   ],
   "source": [
    "print(\"Array before modification :\")\n",
    "print(a)\n",
    "print(\"transpose matrix of matrix a:\")\n",
    "print(a.transpose())\n",
    "b=a.reshape((2,2,3))\n",
    "print(\"Array after modification :\")\n",
    "print(b)"
   ]
  },
  {
   "cell_type": "code",
   "execution_count": 36,
   "id": "5527eebf",
   "metadata": {},
   "outputs": [
    {
     "name": "stdout",
     "output_type": "stream",
     "text": [
      "[[[ 2  3  4]\n",
      "  [ 5  2  4]]\n",
      "\n",
      " [[ 5  6 90]\n",
      "  [80 67 45]]]\n",
      "==================\n",
      "==================\n",
      "[ 2  3  4  5  2  4  5  6 90 80 67 45]\n",
      "[ 2  5  5 80  3  6  2 67  4 90  4 45]\n"
     ]
    }
   ],
   "source": [
    "print(b)\n",
    "print(\"==================\")\n",
    "print(\"==================\")\n",
    "print(b.flatten())\n",
    "print(b.flatten('f'))"
   ]
  },
  {
   "cell_type": "markdown",
   "id": "41a7ae76",
   "metadata": {},
   "source": [
    "# numpy - strings:"
   ]
  },
  {
   "cell_type": "code",
   "execution_count": 43,
   "id": "ba4642c5",
   "metadata": {},
   "outputs": [
    {
     "name": "stdout",
     "output_type": "stream",
     "text": [
      "list concatination\n",
      "['a', 'b', 'c', 'd', 'e', 'f', 'g', 'h']\n",
      "array concatination\n",
      "['ae' 'bf' 'cg' 'dh']\n",
      "list multiplication:\n",
      "['a', 'b', 'c', 'd', 'a', 'b', 'c', 'd', 'a', 'b', 'c', 'd', 'a', 'b', 'c', 'd', 'a', 'b', 'c', 'd']\n",
      "array multiplication:\n",
      "['aaaaa' 'bbbbb' 'ccccc' 'ddddd']\n"
     ]
    }
   ],
   "source": [
    "l1=['a','b','c','d']\n",
    "l2=['e','f','g','h']\n",
    "print(\"list concatination\")\n",
    "print(l1+l2)\n",
    "a1=np.array(['a','b','c','d'])\n",
    "a2=np.array(['e','f','g','h'])\n",
    "print(\"array concatination\")\n",
    "print(np.char.add(a1,a2))\n",
    "print(\"list multiplication:\")\n",
    "print(l1*5)\n",
    "print(\"array multiplication:\")\n",
    "print(np.char.multiply(a1,5))"
   ]
  },
  {
   "cell_type": "code",
   "execution_count": 7,
   "id": "5582310b",
   "metadata": {},
   "outputs": [
    {
     "name": "stdout",
     "output_type": "stream",
     "text": [
      "-------hello--------\n",
      "['hello!', 'i', 'm', 'fine']\n",
      "['hello! i m fine ', ' i m going to mumbai']\n",
      "mulya is an angle\n",
      "['a*m*u*l*y*a' 'a/n/u/s/h/a' 'a?n?i?t?h?a']\n",
      "ravi sings well\n"
     ]
    }
   ],
   "source": [
    "import numpy as np\n",
    "print(np.char.center('hello',20,fillchar=\"-\"))\n",
    "print(np.char.split(\"hello! i m fine\"))\n",
    "print(np.char.splitlines(\"hello! i m fine \\n i m going to mumbai\"))\n",
    "print(np.char.strip(\"amulya is an angle\",'a'))\n",
    "print(np.char.join(['*','/','?'],['amulya','anusha','anitha']))\n",
    "print(np.char.replace('ravi plays well','plays','sings'))"
   ]
  },
  {
   "cell_type": "code",
   "execution_count": 8,
   "id": "61d6ac1e",
   "metadata": {},
   "outputs": [
    {
     "name": "stdout",
     "output_type": "stream",
     "text": [
      "capitalizing:: Ravi plays well\n",
      "title:: Ravi Plays Well\n",
      "uppercase:: RAVI PLAYS WELL\n",
      "lowercase:: ravi plays well\n"
     ]
    }
   ],
   "source": [
    "#font::\n",
    "print(\"capitalizing::\",end=\" \")\n",
    "print(np.char.capitalize('ravi plays well'))\n",
    "print(\"title::\",end=\" \")\n",
    "print(np.char.title('ravi plays well'))\n",
    "print(\"uppercase::\",end=\" \")\n",
    "print(np.char.upper('ravi plays well'))\n",
    "print(\"lowercase::\",end=\" \")\n",
    "print(np.char.lower('ravi plays well'))"
   ]
  },
  {
   "cell_type": "markdown",
   "id": "e0500dee",
   "metadata": {},
   "source": [
    "# arithmetic operations on arrays"
   ]
  },
  {
   "cell_type": "code",
   "execution_count": 10,
   "id": "d7673b99",
   "metadata": {},
   "outputs": [
    {
     "name": "stdout",
     "output_type": "stream",
     "text": [
      "addition:\n",
      "[[62 82 62 52]\n",
      " [48 30 59 86]]\n",
      "============================\n",
      "sutraction:\n",
      "[[58 74 50 38]\n",
      " [30 18 53 70]]\n",
      "============================\n",
      "multiplication:\n",
      "[[120 312 336 315]\n",
      " [351 144 168 624]]\n",
      "============================\n",
      "division:\n",
      "[[30.         19.5         9.33333333  6.42857143]\n",
      " [ 4.33333333  4.         18.66666667  9.75      ]]\n",
      "============================\n",
      "flow division:\n",
      "[[30 19  9  6]\n",
      " [ 4  4 18  9]]\n",
      "============================\n",
      "modulo:\n",
      "[[0 2 2 3]\n",
      " [3 0 2 6]]\n"
     ]
    }
   ],
   "source": [
    "a1=np.array([[60,78,56,45],[39,24,56,78]])\n",
    "a2=np.array([[2,4,6,7],[9,6,3,8]])\n",
    "print(\"addition:\")\n",
    "print(a1+a2)\n",
    "print(\"============================\")\n",
    "print(\"sutraction:\")\n",
    "print(a1-a2)\n",
    "print(\"============================\")\n",
    "print(\"multiplication:\")\n",
    "print(a1*a2)\n",
    "print(\"============================\")\n",
    "print(\"division:\")\n",
    "print(a1/a2)\n",
    "print(\"============================\")\n",
    "print(\"flow division:\")\n",
    "print(a1//a2)\n",
    "print(\"============================\")\n",
    "print(\"modulo:\")\n",
    "print(a1%a2)"
   ]
  },
  {
   "cell_type": "code",
   "execution_count": 14,
   "id": "5db4b4f7",
   "metadata": {},
   "outputs": [
    {
     "name": "stdout",
     "output_type": "stream",
     "text": [
      "[[62 82 62 53]\n",
      " [41 28 62 86]]\n"
     ]
    }
   ],
   "source": [
    "a1=np.array([[60,78,56,45],[39,24,56,78]])\n",
    "a2=np.array([2,4,6,8])\n",
    "print(a1+a2)"
   ]
  },
  {
   "cell_type": "markdown",
   "id": "9b75e60e",
   "metadata": {},
   "source": [
    "# slicing of an array"
   ]
  },
  {
   "cell_type": "code",
   "execution_count": 19,
   "id": "4f8d60cd",
   "metadata": {},
   "outputs": [
    {
     "name": "stdout",
     "output_type": "stream",
     "text": [
      "[7 8 9 0 4 6 8]\n",
      "[2 4 6 8]\n",
      "[7 8]\n",
      "[6 7 9]\n"
     ]
    }
   ],
   "source": [
    "a2=np.array([2,4,6,8,7,8,9,0,4,6,8])\n",
    "print(a2[4:])\n",
    "print(a2[:4])\n",
    "print(a2[4:-5])\n",
    "s=slice(2,7,2)\n",
    "print(a2[s])"
   ]
  },
  {
   "cell_type": "code",
   "execution_count": 5,
   "id": "643d628d",
   "metadata": {},
   "outputs": [
    {
     "name": "stdout",
     "output_type": "stream",
     "text": [
      "[[1 2 3 4]\n",
      " [2 3 4 5]\n",
      " [3 4 6 7]\n",
      " [9 8 7 4]]\n",
      "=================================\n",
      "[[2 3]\n",
      " [3 4]\n",
      " [4 6]]\n"
     ]
    }
   ],
   "source": [
    "import numpy as np\n",
    "a=np.array([[1,2,3,4],[2,3,4,5],[3,4,6,7],[9,8,7,4]])\n",
    "print(a)\n",
    "print('=================================')\n",
    "print(a[0:3,1:3])"
   ]
  },
  {
   "cell_type": "markdown",
   "id": "4a20fb65",
   "metadata": {},
   "source": [
    "# iterating array elements"
   ]
  },
  {
   "cell_type": "code",
   "execution_count": 15,
   "id": "1d208f37",
   "metadata": {},
   "outputs": [
    {
     "name": "stdout",
     "output_type": "stream",
     "text": [
      "<class 'numpy.ndarray'>\n",
      "[1 2 3 4]\n",
      "[45 67 56 78]\n",
      "[12 23 34 45]\n",
      "========================\n",
      "1 2 3 4 45 67 56 78 12 23 34 45 \n",
      "========================\n",
      "1 45 12 2 67 23 3 56 34 4 78 45 "
     ]
    }
   ],
   "source": [
    "a=np.array([[1,2,3,4],[45,67,56,78],[12,23,34,45]])\n",
    "print(type(a))\n",
    "for x in a:\n",
    "    print(x)\n",
    "print(\"========================\")\n",
    "for y in np.nditer(a):\n",
    "    print(y,end=\" \")\n",
    "print()\n",
    "print(\"========================\")\n",
    "for y in np.nditer(a,order='F'):\n",
    "    print(y,end=\" \")"
   ]
  },
  {
   "cell_type": "markdown",
   "id": "92d80867",
   "metadata": {},
   "source": [
    "# joining arrays"
   ]
  },
  {
   "cell_type": "code",
   "execution_count": 18,
   "id": "77dc80af",
   "metadata": {},
   "outputs": [
    {
     "name": "stdout",
     "output_type": "stream",
     "text": [
      "[[1 2 3]\n",
      " [4 5 6]\n",
      " [7 8 9]]\n",
      "==================\n",
      "[[11 22 33]\n",
      " [44 55 66]\n",
      " [77 88 99]]\n",
      "====================\n",
      "[[ 1  2  3]\n",
      " [ 4  5  6]\n",
      " [ 7  8  9]\n",
      " [11 22 33]\n",
      " [44 55 66]\n",
      " [77 88 99]]\n",
      "====================\n",
      "[[ 1  2  3 11 22 33]\n",
      " [ 4  5  6 44 55 66]\n",
      " [ 7  8  9 77 88 99]]\n"
     ]
    }
   ],
   "source": [
    "a=np.array([[1,2,3],[4,5,6],[7,8,9]])\n",
    "b=np.array([[11,22,33],[44,55,66],[77,88,99]])\n",
    "print(a)\n",
    "print(\"==================\")\n",
    "print(b)\n",
    "print(\"====================\")\n",
    "print(np.concatenate((a,b)))\n",
    "print(\"====================\")\n",
    "print(np.concatenate((a,b),axis=1))"
   ]
  },
  {
   "cell_type": "code",
   "execution_count": 21,
   "id": "47ca89ea",
   "metadata": {},
   "outputs": [
    {
     "name": "stdout",
     "output_type": "stream",
     "text": [
      "[[1 2 3]\n",
      " [4 5 6]]\n",
      "(2, 3)\n",
      "[[1 2 3 4]\n",
      " [5 6 1 2]\n",
      " [3 4 5 6]\n",
      " [1 2 3 4]]\n",
      "(4, 4)\n"
     ]
    }
   ],
   "source": [
    "a=np.array([[1,2,3],[4,5,6]])\n",
    "print(a)\n",
    "print(a.shape)\n",
    "b=np.resize(a,(4,4))\n",
    "print(b)\n",
    "print(b.shape)"
   ]
  },
  {
   "cell_type": "markdown",
   "id": "7af63931",
   "metadata": {},
   "source": [
    "# some useful functions in numpy:"
   ]
  },
  {
   "cell_type": "code",
   "execution_count": 22,
   "id": "5bf42f33",
   "metadata": {},
   "outputs": [
    {
     "name": "stdout",
     "output_type": "stream",
     "text": [
      "[ 6.          6.42857143  6.85714286  7.28571429  7.71428571  8.14285714\n",
      "  8.57142857  9.          9.42857143  9.85714286 10.28571429 10.71428571\n",
      " 11.14285714 11.57142857 12.        ]\n"
     ]
    }
   ],
   "source": [
    "a=np.linspace(6,12,15)\n",
    "print(a)"
   ]
  },
  {
   "cell_type": "code",
   "execution_count": 25,
   "id": "f1e5b18c",
   "metadata": {},
   "outputs": [
    {
     "name": "stdout",
     "output_type": "stream",
     "text": [
      "219\n",
      "[ 23  91 105]\n",
      "[ 10 209]\n",
      "[[1.         1.73205081 2.44948974]\n",
      " [4.69041576 9.38083152 9.94987437]]\n",
      "40.99085263811915\n"
     ]
    }
   ],
   "source": [
    "a=np.array([[1,3,6],[22,88,99]])\n",
    "print(a.sum())\n",
    "print(a.sum(axis=0))\n",
    "print(a.sum(axis=1))\n",
    "print(np.sqrt(a))\n",
    "print(np.std(a))"
   ]
  },
  {
   "cell_type": "markdown",
   "id": "f9bc87da",
   "metadata": {},
   "source": [
    "# useful/practice models:"
   ]
  },
  {
   "cell_type": "code",
   "execution_count": 25,
   "id": "d2173859",
   "metadata": {},
   "outputs": [
    {
     "name": "stdout",
     "output_type": "stream",
     "text": [
      "[[0.63665154 0.67965917 0.91699886 0.22052872 0.02270749 0.99468251\n",
      "  0.56114439 0.62155446 0.89687362 0.48897382]\n",
      " [0.5317287  0.53841759 0.78911301 0.74793116 0.83830945 0.86002204\n",
      "  0.16448324 0.42173172 0.44834543 0.42432408]\n",
      " [0.97673014 0.63134713 0.40201589 0.87806184 0.53942097 0.11359092\n",
      "  0.22004978 0.37343337 0.75184412 0.06243137]\n",
      " [0.03763641 0.33970233 0.68569104 0.87283316 0.14129061 0.03293956\n",
      "  0.85263883 0.25881875 0.38332935 0.98536239]\n",
      " [0.30039027 0.27526081 0.88618956 0.20860839 0.2299211  0.92576701\n",
      "  0.2445265  0.81891356 0.50689301 0.05141613]\n",
      " [0.5712144  0.31476897 0.13541844 0.60695317 0.11179242 0.9132487\n",
      "  0.71810761 0.40337261 0.15735971 0.74995451]\n",
      " [0.30033219 0.8900699  0.77210311 0.34855551 0.68489454 0.96719593\n",
      "  0.75752259 0.1450308  0.57769719 0.28557481]\n",
      " [0.79201536 0.21232117 0.73522387 0.29739208 0.33201742 0.3542834\n",
      "  0.22363842 0.38142775 0.88403029 0.18038762]\n",
      " [0.7100685  0.02546146 0.02689064 0.05261959 0.06794628 0.38075666\n",
      "  0.35645473 0.05401455 0.28610363 0.82817567]\n",
      " [0.6486686  0.52704513 0.2955726  0.167459   0.87778414 0.89110761\n",
      "  0.58838933 0.8040329  0.40984127 0.55423609]]\n",
      "=====================================================================\n",
      "[[0.63665154 0.67965917 0.91699886 0.22052872 0.02270749 0.99468251\n",
      "  0.56114439 0.62155446 0.89687362        nan]\n",
      " [0.5317287  0.53841759 0.78911301 0.74793116 0.83830945 0.86002204\n",
      "  0.16448324 0.42173172 0.44834543 0.42432408]\n",
      " [       nan        nan 0.40201589 0.87806184 0.53942097 0.11359092\n",
      "  0.22004978 0.37343337 0.75184412 0.06243137]\n",
      " [0.03763641        nan 0.68569104 0.87283316 0.14129061 0.03293956\n",
      "  0.85263883 0.25881875 0.38332935 0.98536239]\n",
      " [0.30039027 0.27526081 0.88618956        nan 0.2299211  0.92576701\n",
      "  0.2445265  0.81891356 0.50689301 0.05141613]\n",
      " [0.5712144         nan 0.13541844 0.60695317 0.11179242 0.9132487\n",
      "  0.71810761 0.40337261 0.15735971 0.74995451]\n",
      " [0.30033219 0.8900699  0.77210311 0.34855551 0.68489454 0.96719593\n",
      "         nan 0.1450308  0.57769719 0.28557481]\n",
      " [0.79201536 0.21232117 0.73522387 0.29739208        nan        nan\n",
      "  0.22363842 0.38142775 0.88403029 0.18038762]\n",
      " [0.7100685  0.02546146 0.02689064 0.05261959 0.06794628 0.38075666\n",
      "  0.35645473 0.05401455 0.28610363 0.82817567]\n",
      " [0.6486686         nan 0.2955726  0.167459   0.87778414 0.89110761\n",
      "  0.58838933 0.8040329  0.40984127 0.55423609]]\n"
     ]
    }
   ],
   "source": [
    "z=np.random.rand(10,10)\n",
    "print(z)\n",
    "print('=====================================================================')\n",
    "z[np.random.randint(10,size=10),np.random.randint(10,size=10)]=np.nan\n",
    "print(z)"
   ]
  },
  {
   "cell_type": "code",
   "execution_count": 27,
   "id": "7476da7f",
   "metadata": {},
   "outputs": [
    {
     "name": "stdout",
     "output_type": "stream",
     "text": [
      "no of missing values in array: 10\n",
      "index of missing values:\n",
      "(array([0, 2, 2, 3, 4, 5, 6, 7, 7, 9], dtype=int64), array([9, 0, 1, 1, 3, 1, 6, 4, 5, 1], dtype=int64))\n",
      "mean nan\n"
     ]
    }
   ],
   "source": [
    "print(\"no of missing values in array:\",np.isnan(z).sum())\n",
    "print(\"index of missing values:\")\n",
    "inds=np.where(np.isnan(z))\n",
    "print(inds)\n",
    "z[inds]=0"
   ]
  },
  {
   "cell_type": "code",
   "execution_count": 28,
   "id": "51ead88a",
   "metadata": {},
   "outputs": [
    {
     "data": {
      "text/plain": [
       "array([[0.63665154, 0.67965917, 0.91699886, 0.22052872, 0.02270749,\n",
       "        0.99468251, 0.56114439, 0.62155446, 0.89687362, 0.        ],\n",
       "       [0.5317287 , 0.53841759, 0.78911301, 0.74793116, 0.83830945,\n",
       "        0.86002204, 0.16448324, 0.42173172, 0.44834543, 0.42432408],\n",
       "       [0.        , 0.        , 0.40201589, 0.87806184, 0.53942097,\n",
       "        0.11359092, 0.22004978, 0.37343337, 0.75184412, 0.06243137],\n",
       "       [0.03763641, 0.        , 0.68569104, 0.87283316, 0.14129061,\n",
       "        0.03293956, 0.85263883, 0.25881875, 0.38332935, 0.98536239],\n",
       "       [0.30039027, 0.27526081, 0.88618956, 0.        , 0.2299211 ,\n",
       "        0.92576701, 0.2445265 , 0.81891356, 0.50689301, 0.05141613],\n",
       "       [0.5712144 , 0.        , 0.13541844, 0.60695317, 0.11179242,\n",
       "        0.9132487 , 0.71810761, 0.40337261, 0.15735971, 0.74995451],\n",
       "       [0.30033219, 0.8900699 , 0.77210311, 0.34855551, 0.68489454,\n",
       "        0.96719593, 0.        , 0.1450308 , 0.57769719, 0.28557481],\n",
       "       [0.79201536, 0.21232117, 0.73522387, 0.29739208, 0.        ,\n",
       "        0.        , 0.22363842, 0.38142775, 0.88403029, 0.18038762],\n",
       "       [0.7100685 , 0.02546146, 0.02689064, 0.05261959, 0.06794628,\n",
       "        0.38075666, 0.35645473, 0.05401455, 0.28610363, 0.82817567],\n",
       "       [0.6486686 , 0.        , 0.2955726 , 0.167459  , 0.87778414,\n",
       "        0.89110761, 0.58838933, 0.8040329 , 0.40984127, 0.55423609]])"
      ]
     },
     "execution_count": 28,
     "metadata": {},
     "output_type": "execute_result"
    }
   ],
   "source": [
    "z"
   ]
  },
  {
   "cell_type": "code",
   "execution_count": null,
   "id": "43e1e7c1",
   "metadata": {},
   "outputs": [],
   "source": []
  },
  {
   "cell_type": "code",
   "execution_count": null,
   "id": "78885efc",
   "metadata": {},
   "outputs": [],
   "source": []
  }
 ],
 "metadata": {
  "kernelspec": {
   "display_name": "Python 3 (ipykernel)",
   "language": "python",
   "name": "python3"
  },
  "language_info": {
   "codemirror_mode": {
    "name": "ipython",
    "version": 3
   },
   "file_extension": ".py",
   "mimetype": "text/x-python",
   "name": "python",
   "nbconvert_exporter": "python",
   "pygments_lexer": "ipython3",
   "version": "3.9.12"
  }
 },
 "nbformat": 4,
 "nbformat_minor": 5
}
